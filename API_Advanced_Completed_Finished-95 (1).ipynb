{
 "cells": [
  {
   "cell_type": "markdown",
   "metadata": {},
   "source": [
    "# Advanced APIs"
   ]
  },
  {
   "cell_type": "markdown",
   "metadata": {},
   "source": [
    "### Set up for Success"
   ]
  },
  {
   "cell_type": "code",
   "execution_count": 48,
   "metadata": {},
   "outputs": [],
   "source": [
    "import requests\n",
    "\n",
    "url = 'https://cae-bootstore.herokuapp.com'\n",
    "\n",
    "endpoint_login = \"/login\"\n",
    "endpoint_user = \"/user\"\n",
    "endpoint_book = \"/book\"\n",
    "\n",
    "\n"
   ]
  },
  {
   "cell_type": "markdown",
   "metadata": {},
   "source": [
    "## GET Requests"
   ]
  },
  {
   "cell_type": "code",
   "execution_count": 49,
   "metadata": {
    "scrolled": true
   },
   "outputs": [
    {
     "data": {
      "text/plain": [
       "[{'author': 'Arlene Dahl',\n",
       "  'created_on': 'Mon, 28 Feb 2022 19:21:17 GMT',\n",
       "  'id': 18,\n",
       "  'img': 'https://s2982.pcdn.co/wp-content/uploads/2018/11/always-ask-a-man-book-cover.jpg',\n",
       "  'pages': 198,\n",
       "  'subject': 'self help',\n",
       "  'summary': 'For women traveling back to the US 1950',\n",
       "  'title': 'ALWAYS ASK A MAN: THE KEY TO FEMININITY'},\n",
       " {'author': 'Arnetta R. Scales',\n",
       "  'created_on': 'Mon, 28 Feb 2022 19:21:17 GMT',\n",
       "  'id': 19,\n",
       "  'img': 'https://s2982.pcdn.co/wp-content/uploads/2018/11/and-on-the-eighth-day-god-created-hairdressers-book-cover.jpg',\n",
       "  'pages': 222,\n",
       "  'subject': 'self help',\n",
       "  'summary': 'Becuase I just gotta get my hair did',\n",
       "  'title': 'AND ON THE EIGHTH DAY GOD CREATED HAIRDRESSERS'},\n",
       " {'author': 'James Maratta',\n",
       "  'created_on': 'Mon, 28 Feb 2022 19:21:17 GMT',\n",
       "  'id': 20,\n",
       "  'img': 'https://s2982.pcdn.co/wp-content/uploads/2018/11/brainwashing-is-a-cinch-book-cover.jpg',\n",
       "  'pages': 321,\n",
       "  'subject': 'science',\n",
       "  'summary': 'We bother making a rational argument?',\n",
       "  'title': 'BRAINWASHING IS A CINCH!'},\n",
       " {'author': 'Stephanie Jackson',\n",
       "  'created_on': 'Mon, 28 Feb 2022 19:21:17 GMT',\n",
       "  'id': 21,\n",
       "  'img': 'https://s2982.pcdn.co/wp-content/uploads/2018/11/cat-flexing.jpg',\n",
       "  'pages': 1295,\n",
       "  'subject': 'self help',\n",
       "  'summary': 'Who needs heavy weights when a fat cat will do',\n",
       "  'title': 'CATFLEXING: A CATLOVER’S GUIDE TO WEIGHTLIFTING, AEROBICS & STRETCHING'},\n",
       " {'author': 'Micheala Giles',\n",
       "  'created_on': 'Mon, 28 Feb 2022 19:21:17 GMT',\n",
       "  'id': 22,\n",
       "  'img': 'https://s2982.pcdn.co/wp-content/uploads/2018/11/commuter-pig-keeper-book-cover.jpg',\n",
       "  'pages': 87,\n",
       "  'subject': 'science',\n",
       "  'summary': 'Not in Kansas anymore? Raising pigs in the City with a full time job?',\n",
       "  'title': 'THE COMMUTER PIG KEEPER'},\n",
       " {'author': 'Elizabeth Worthington Strong',\n",
       "  'created_on': 'Mon, 28 Feb 2022 19:21:17 GMT',\n",
       "  'id': 24,\n",
       "  'img': 'https://s2982.pcdn.co/wp-content/uploads/2018/11/how-to-cook-husbands-book-cover.jpg',\n",
       "  'pages': 199,\n",
       "  'subject': 'marriage advice',\n",
       "  'summary': \"For when you are tired of the question What's for dinner?\",\n",
       "  'title': 'HOW TO COOK HUSBANDS'},\n",
       " {'author': 'Lois Bird',\n",
       "  'created_on': 'Mon, 28 Feb 2022 19:21:17 GMT',\n",
       "  'id': 25,\n",
       "  'img': 'https://s2982.pcdn.co/wp-content/uploads/2018/11/how-to-make-your-wife-your-mistress-book-cover.jpg',\n",
       "  'pages': 111,\n",
       "  'subject': 'marriage advice',\n",
       "  'summary': 'Living with two women can be hard: Consolidate',\n",
       "  'title': 'HOW TO MAKE YOUR WIFE YOUR MISTRESS'},\n",
       " {'author': 'Brenda Bence',\n",
       "  'created_on': 'Mon, 28 Feb 2022 19:21:17 GMT',\n",
       "  'id': 26,\n",
       "  'img': 'https://s2982.pcdn.co/wp-content/uploads/2018/11/how-you-are-like-shampoo-book-cover.jpg',\n",
       "  'pages': 222,\n",
       "  'subject': 'self help',\n",
       "  'summary': 'Lather, rinse, repeat.',\n",
       "  'title': 'HOW YOU ARE LIKE SHAMPOO'},\n",
       " {'author': 'Aqua Boil',\n",
       "  'created_on': 'Mon, 28 Feb 2022 19:21:17 GMT',\n",
       "  'id': 27,\n",
       "  'img': 'https://s2982.pcdn.co/wp-content/uploads/2018/11/the-joy-of-waterboiling-book-cover-759x1024.jpg',\n",
       "  'pages': 12,\n",
       "  'subject': 'entertainment',\n",
       "  'summary': 'For when you need to have fun on a budget ',\n",
       "  'title': 'THE JOY OF WATER BOILING'},\n",
       " {'author': 'Drew Emborsky',\n",
       "  'created_on': 'Mon, 28 Feb 2022 19:21:17 GMT',\n",
       "  'id': 28,\n",
       "  'img': 'https://s2982.pcdn.co/wp-content/uploads/2018/11/men-who-knit-and-the-dogs-who-love-them-book-cover.jpg',\n",
       "  'pages': 397,\n",
       "  'subject': 'entertainment',\n",
       "  'summary': 'Nothing finer than knitting matching sweaters for you and your dog',\n",
       "  'title': 'MEN WHO KNIT & THE DOGS WHO LOVE THEM'},\n",
       " {'author': 'Matthew Voggel',\n",
       "  'created_on': 'Mon, 28 Feb 2022 19:21:17 GMT',\n",
       "  'id': 30,\n",
       "  'img': 'https://s2982.pcdn.co/wp-content/uploads/2018/11/natural-history-of-vacant-lots-book-cover-178x300.jpg',\n",
       "  'pages': 452,\n",
       "  'subject': 'science',\n",
       "  'summary': 'Seinfeld for Property',\n",
       "  'title': 'NATURAL HISTORY OF VACANT LOTS'},\n",
       " {'author': 'Hester Mundis',\n",
       "  'created_on': 'Mon, 28 Feb 2022 19:21:17 GMT',\n",
       "  'id': 31,\n",
       "  'img': 'https://s2982.pcdn.co/wp-content/uploads/2018/11/no-hes-not-a-monkey-book-cover.jpg',\n",
       "  'pages': 521,\n",
       "  'subject': 'self help',\n",
       "  'summary': 'Advice on raising a teenage boy',\n",
       "  'title': 'NO, HE’S NOT A MONKEY, HE’S AN APE AND HE’S MY SON'},\n",
       " {'author': 'Linda Wright',\n",
       "  'created_on': 'Mon, 28 Feb 2022 19:21:17 GMT',\n",
       "  'id': 32,\n",
       "  'img': 'https://s2982.pcdn.co/wp-content/uploads/2018/11/toilet-paper-origami-book-cover.jpg',\n",
       "  'pages': 222,\n",
       "  'subject': 'entertainment',\n",
       "  'summary': 'A book for when you leave your phone in the other room.',\n",
       "  'title': 'TOILET PAPER ORIGAMI'},\n",
       " {'author': 'Martin Greenberg',\n",
       "  'created_on': 'Mon, 28 Feb 2022 19:21:17 GMT',\n",
       "  'id': 33,\n",
       "  'img': 'https://s2982.pcdn.co/wp-content/uploads/2018/11/zombie-raccoons-and-killer-rabbits-book-cover.jpg',\n",
       "  'pages': 201,\n",
       "  'subject': 'science',\n",
       "  'summary': \"When the day comes you'll thank me\",\n",
       "  'title': 'ZOMBIE RACCOONS & KILLER BUNNIES'},\n",
       " {'author': 'Donal I Rogers',\n",
       "  'created_on': 'Mon, 28 Feb 2022 19:21:17 GMT',\n",
       "  'id': 34,\n",
       "  'img': 'https://s2982.pcdn.co/wp-content/uploads/2018/11/teach-your-wife-to-be-a-widow-book-cover.jpg',\n",
       "  'pages': 187,\n",
       "  'subject': 'marriage',\n",
       "  'summary': 'For when your wife browses our marriage section',\n",
       "  'title': 'TEACH YOUR WIFE TO BE A WIDOW'},\n",
       " {'author': 'The Practical Dev',\n",
       "  'created_on': 'Mon, 07 Mar 2022 21:56:09 GMT',\n",
       "  'id': 35,\n",
       "  'img': 'https://boyter.org/static/books/Cn1rWcbWcAAgsCA.jpg',\n",
       "  'pages': 120,\n",
       "  'subject': 'Programming',\n",
       "  'summary': 'Regex is hard',\n",
       "  'title': 'Googling for the Regex'},\n",
       " {'author': 'The Practical Dev',\n",
       "  'created_on': 'Mon, 07 Mar 2022 21:56:09 GMT',\n",
       "  'id': 36,\n",
       "  'img': 'https://boyter.org/static/books/CpWvVOoW8AAjYmB.jpg',\n",
       "  'pages': 5324,\n",
       "  'subject': 'Programming',\n",
       "  'summary': 'git add, git commit, git push, git clone, git branch, git fetch',\n",
       "  'title': 'Memorizing Six Git Commands'},\n",
       " {'author': 'The Practical Dev',\n",
       "  'created_on': 'Mon, 07 Mar 2022 21:56:09 GMT',\n",
       "  'id': 37,\n",
       "  'img': 'https://boyter.org/static/books/CnDD1t0XgAQMXJA.jpg',\n",
       "  'pages': 57,\n",
       "  'subject': 'Programming',\n",
       "  'summary': 'To catch them is your real test, to train them is your cause',\n",
       "  'title': \"Catching 'em all\"},\n",
       " {'author': 'The Practical Dev',\n",
       "  'created_on': 'Mon, 07 Mar 2022 21:56:09 GMT',\n",
       "  'id': 38,\n",
       "  'img': 'https://boyter.org/static/books/Cf7eHZ1W4AEeZJA.jpg',\n",
       "  'pages': 125,\n",
       "  'subject': 'Programming',\n",
       "  'summary': 'The way programmers like to learn',\n",
       "  'title': 'Changing Stuff and Seeing What Happens'},\n",
       " {'author': 'The Practical Dev',\n",
       "  'created_on': 'Mon, 07 Mar 2022 21:56:09 GMT',\n",
       "  'id': 39,\n",
       "  'img': 'https://boyter.org/static/books/ChdhDa5XEAAK36t.jpg',\n",
       "  'pages': 233,\n",
       "  'subject': 'Programming',\n",
       "  'summary': 'What happened when I built this ap',\n",
       "  'title': 'Moving Fast and breaking things'},\n",
       " {'author': 'The Practical Dev',\n",
       "  'created_on': 'Mon, 07 Mar 2022 21:56:09 GMT',\n",
       "  'id': 40,\n",
       "  'img': 'https://boyter.org/static/books/CiHHf9-UYAA6aVB.jpg',\n",
       "  'pages': 233,\n",
       "  'subject': 'Programming',\n",
       "  'summary': 'A book on the key to success',\n",
       "  'title': 'Remembering What to Google'},\n",
       " {'author': 'Anonymous',\n",
       "  'created_on': 'Mon, 28 Feb 2022 19:21:17 GMT',\n",
       "  'id': 23,\n",
       "  'img': 'https://s2982.pcdn.co/wp-content/uploads/2018/11/cooking-to-kill-book-cover.jpg',\n",
       "  'pages': 3207,\n",
       "  'subject': 'cooking',\n",
       "  'summary': 'Originally titled: Divorce with Benefits',\n",
       "  'title': 'COOKING TO KILL: THE POISON COOK-BOOK'},\n",
       " {'author': 'The Practical Dev',\n",
       "  'created_on': 'Mon, 07 Mar 2022 21:56:09 GMT',\n",
       "  'id': 41,\n",
       "  'img': 'https://boyter.org/static/books/Cllb9urWMAAKaz4.jpg',\n",
       "  'pages': 384,\n",
       "  'subject': 'Programming',\n",
       "  'summary': 'A book on how I got through Coding Temple Lectures',\n",
       "  'title': 'Nodding along'},\n",
       " {'author': 'The Practical Dev',\n",
       "  'created_on': 'Mon, 07 Mar 2022 21:56:09 GMT',\n",
       "  'id': 42,\n",
       "  'img': 'https://boyter.org/static/books/CfSQdwUW8AErog1.jpg',\n",
       "  'pages': 32,\n",
       "  'subject': 'Programming',\n",
       "  'summary': 'My programming process',\n",
       "  'title': 'Trying Stuff Until it Works'},\n",
       " {'author': 'The Practical Dev',\n",
       "  'created_on': 'Mon, 07 Mar 2022 21:56:09 GMT',\n",
       "  'id': 43,\n",
       "  'img': 'https://boyter.org/static/books/pRDPMx2.jpg',\n",
       "  'pages': 475,\n",
       "  'subject': 'Programming',\n",
       "  'summary': 'I think i know what this does',\n",
       "  'title': 'Copying and Pasting from Stack Overflow'},\n",
       " {'author': 'The Practical Dev',\n",
       "  'created_on': 'Mon, 07 Mar 2022 21:56:09 GMT',\n",
       "  'id': 44,\n",
       "  'img': 'https://boyter.org/static/books/C1_sRq9XgAADMzY.jpg',\n",
       "  'pages': 2,\n",
       "  'subject': 'Programming',\n",
       "  'summary': 'Crossing those fingers',\n",
       "  'title': 'Hoping for the Right Interview Questions'},\n",
       " {'author': 'The Practical Dev',\n",
       "  'created_on': 'Mon, 07 Mar 2022 22:24:42 GMT',\n",
       "  'id': 45,\n",
       "  'img': 'https://boyter.org/static/books/f8153cfdbe0a117e6386fa7051976063-2.jpeg',\n",
       "  'pages': 923,\n",
       "  'subject': 'Programming',\n",
       "  'summary': \"Wade's old textbook\",\n",
       "  'title': 'Cobol: the fossilized guide'},\n",
       " {'author': 'The Practical Dev',\n",
       "  'created_on': 'Mon, 07 Mar 2022 22:24:42 GMT',\n",
       "  'id': 46,\n",
       "  'img': 'https://boyter.org/static/books/e1120a9e3abfecff3ac50527e1b3556f-2.jpeg',\n",
       "  'pages': 143,\n",
       "  'subject': 'Programming',\n",
       "  'summary': 'Looks just as good as the original',\n",
       "  'title': 'JPEG Compression'},\n",
       " {'author': 'Peanut Pirate',\n",
       "  'created_on': 'Wed, 09 Mar 2022 23:12:01 GMT',\n",
       "  'id': 47,\n",
       "  'img': 'http://www.fastprint.co.uk/Assets/User/2107-outwitting-squirrels.jpg',\n",
       "  'pages': 12456,\n",
       "  'subject': 'entertainment',\n",
       "  'summary': \"It's way harder than it sounds\",\n",
       "  'title': 'Outwitting Squirrels'},\n",
       " {'author': 'Malcolm',\n",
       "  'created_on': 'Wed, 09 Mar 2022 23:12:01 GMT',\n",
       "  'id': 48,\n",
       "  'img': 'http://www.fastprint.co.uk/Assets/User/2064-eating-people-is-wrong.jpg',\n",
       "  'pages': 134,\n",
       "  'subject': 'cooking',\n",
       "  'summary': 'This was also news to me',\n",
       "  'title': 'Eating People is Wrong'},\n",
       " {'author': '673126',\n",
       "  'created_on': 'Wed, 09 Mar 2022 23:12:01 GMT',\n",
       "  'id': 49,\n",
       "  'img': 'http://www.fastprint.co.uk/Assets/User/2084-how-to-make-money-in-your-spare-time.jpg',\n",
       "  'pages': 666,\n",
       "  'subject': 'self help',\n",
       "  'summary': 'Black mask not included',\n",
       "  'title': 'How to make money in your spare time'},\n",
       " {'author': 'John W Trimmer',\n",
       "  'created_on': 'Wed, 09 Mar 2022 23:12:01 GMT',\n",
       "  'id': 50,\n",
       "  'img': 'http://www.fastprint.co.uk/Assets/User/2079-how-to-avoid-huge-ships.jpg',\n",
       "  'pages': 1,\n",
       "  'subject': 'science',\n",
       "  'summary': 'Pivot',\n",
       "  'title': 'How to Avoid Huge Ships'},\n",
       " {'author': 'Heather Silver',\n",
       "  'created_on': 'Wed, 09 Mar 2022 23:12:01 GMT',\n",
       "  'id': 51,\n",
       "  'img': 'http://www.fastprint.co.uk/Assets/User/2142-why-cats-paint.jpg',\n",
       "  'pages': 185,\n",
       "  'subject': 'entertainment',\n",
       "  'summary': 'A photogenic journey through the internets favorite topic',\n",
       "  'title': 'Why Cats Paint'},\n",
       " {'author': 'Coolio',\n",
       "  'created_on': 'Wed, 09 Mar 2022 23:12:01 GMT',\n",
       "  'id': 52,\n",
       "  'img': 'http://www.fastprint.co.uk/Assets/User/2062-cookin-with-coolio.jpg',\n",
       "  'pages': 207,\n",
       "  'subject': 'cooking',\n",
       "  'summary': 'The fried bologna is devine',\n",
       "  'title': \"Cookin' with Coolio\"}]"
      ]
     },
     "execution_count": 49,
     "metadata": {},
     "output_type": "execute_result"
    }
   ],
   "source": [
    "def get_books():\n",
    "    books = requests.get(url+endpoint_book)\n",
    "    return books.json()['books']\n",
    "books = get_books()\n",
    "books"
   ]
  },
  {
   "cell_type": "markdown",
   "metadata": {},
   "source": [
    "## In Class Assignment A\n",
    "\n",
    "#### make a function that returns a set of all the categories/subject found in the book list"
   ]
  },
  {
   "cell_type": "code",
   "execution_count": 29,
   "metadata": {},
   "outputs": [
    {
     "data": {
      "text/plain": [
       "{'Cooking',\n",
       " 'Entertainment',\n",
       " 'Marriage',\n",
       " 'Marriage Advice',\n",
       " 'Programming',\n",
       " 'Science',\n",
       " 'Self Help'}"
      ]
     },
     "execution_count": 29,
     "metadata": {},
     "output_type": "execute_result"
    }
   ],
   "source": [
    "def get_category_list(books):\n",
    "    return {book['subject'].title() for book in books}\n",
    "get_category_list(books)"
   ]
  },
  {
   "cell_type": "code",
   "execution_count": 47,
   "metadata": {},
   "outputs": [
    {
     "data": {
      "text/plain": [
       "{'Cooking',\n",
       " 'Entertainment',\n",
       " 'Marriage',\n",
       " 'Marriage Advice',\n",
       " 'Programming',\n",
       " 'Science',\n",
       " 'Self Help'}"
      ]
     },
     "execution_count": 47,
     "metadata": {},
     "output_type": "execute_result"
    }
   ],
   "source": [
    "get_category_list(books)\n"
   ]
  },
  {
   "cell_type": "markdown",
   "metadata": {},
   "source": [
    "## In Class Assignment B\n",
    "\n",
    "#### make a function that returns a list of all the books(dicts) in a category"
   ]
  },
  {
   "cell_type": "code",
   "execution_count": 30,
   "metadata": {},
   "outputs": [
    {
     "data": {
      "text/plain": [
       "[{'author': 'Anonymous',\n",
       "  'created_on': 'Mon, 28 Feb 2022 19:21:17 GMT',\n",
       "  'id': 23,\n",
       "  'img': 'https://s2982.pcdn.co/wp-content/uploads/2018/11/cooking-to-kill-book-cover.jpg',\n",
       "  'pages': 3207,\n",
       "  'subject': 'cooking',\n",
       "  'summary': 'Originally titled: Divorce with Benefits',\n",
       "  'title': 'COOKING TO KILL: THE POISON COOK-BOOK'},\n",
       " {'author': 'Malcolm',\n",
       "  'created_on': 'Wed, 09 Mar 2022 23:12:01 GMT',\n",
       "  'id': 48,\n",
       "  'img': 'http://www.fastprint.co.uk/Assets/User/2064-eating-people-is-wrong.jpg',\n",
       "  'pages': 134,\n",
       "  'subject': 'cooking',\n",
       "  'summary': 'This was also news to me',\n",
       "  'title': 'Eating People is Wrong'},\n",
       " {'author': 'Coolio',\n",
       "  'created_on': 'Wed, 09 Mar 2022 23:12:01 GMT',\n",
       "  'id': 52,\n",
       "  'img': 'http://www.fastprint.co.uk/Assets/User/2062-cookin-with-coolio.jpg',\n",
       "  'pages': 207,\n",
       "  'subject': 'cooking',\n",
       "  'summary': 'The fried bologna is devine',\n",
       "  'title': \"Cookin' with Coolio\"}]"
      ]
     },
     "execution_count": 30,
     "metadata": {},
     "output_type": "execute_result"
    }
   ],
   "source": [
    "def get_book_by_category(books, category):\n",
    "    return list(filter(lambda book: book['subject'].title()==category.title(),books))\n",
    "get_book_by_category(books,'Cooking')"
   ]
  },
  {
   "cell_type": "markdown",
   "metadata": {},
   "source": [
    "## Using a SLUG\n",
    "A Slug is the unique identifying part of a web address, typically at the end of the URL"
   ]
  },
  {
   "cell_type": "code",
   "execution_count": 31,
   "metadata": {
    "scrolled": true
   },
   "outputs": [
    {
     "data": {
      "text/plain": [
       "{'author': 'Micheala Giles',\n",
       " 'created_on': 'Mon, 28 Feb 2022 19:21:17 GMT',\n",
       " 'id': 22,\n",
       " 'img': 'https://s2982.pcdn.co/wp-content/uploads/2018/11/commuter-pig-keeper-book-cover.jpg',\n",
       " 'pages': 87,\n",
       " 'subject': 'science',\n",
       " 'summary': 'Not in Kansas anymore? Raising pigs in the City with a full time job?',\n",
       " 'title': 'THE COMMUTER PIG KEEPER'}"
      ]
     },
     "execution_count": 31,
     "metadata": {},
     "output_type": "execute_result"
    }
   ],
   "source": [
    "def get_single_book(book_id):\n",
    "    single_book = requests.get(url+endpoint_book +'/'+str(book_id))\n",
    "    return single_book.json()\n",
    "\n",
    "get_single_book(22)"
   ]
  },
  {
   "cell_type": "markdown",
   "metadata": {},
   "source": [
    "## POST Requests\n",
    "\n",
    "#### json.dumps will convert a dictionary into a JSON String ready for transport"
   ]
  },
  {
   "cell_type": "code",
   "execution_count": 32,
   "metadata": {
    "scrolled": true
   },
   "outputs": [
    {
     "data": {
      "text/plain": [
       "'success'"
      ]
     },
     "execution_count": 32,
     "metadata": {},
     "output_type": "execute_result"
    }
   ],
   "source": [
    "import json\n",
    "\n",
    "def register_user(payload):\n",
    "    payload_json_string = json.dumps(payload)\n",
    "    headers = {\n",
    "        'Content-Type':'application/json'\n",
    "    }\n",
    "    response = requests.post(\n",
    "        url + endpoint_user,\n",
    "        data = payload_json_string,\n",
    "        headers = headers\n",
    "    )\n",
    "    return response.text\n",
    "    \n",
    "    \n",
    "    \n",
    "    \n",
    "jims_payload={\n",
    "    \"email\":\"jimb@eam.com\",\n",
    "    \"first_name\":\"William\",\n",
    "    \"last_name\":\"Beam\",\n",
    "    \"password\":\"123\"\n",
    "}\n",
    "\n",
    "register_user(jims_payload)    \n"
   ]
  },
  {
   "cell_type": "markdown",
   "metadata": {},
   "source": [
    "## Authentication - Basic Authorization\n"
   ]
  },
  {
   "cell_type": "code",
   "execution_count": 33,
   "metadata": {
    "scrolled": false
   },
   "outputs": [
    {
     "data": {
      "text/plain": [
       "{'admin': None,\n",
       " 'created_on': 'Sat, 23 Jul 2022 17:18:16 GMT',\n",
       " 'email': 'jimb@eam.com',\n",
       " 'first_name': 'William',\n",
       " 'last_name': 'Beam',\n",
       " 'modified_on': 'Sat, 23 Jul 2022 17:18:17 GMT',\n",
       " 'token': 'vZ4qKUebBr26oHclKdNVwm_ZMDRuMafxoevSIRHBJx4',\n",
       " 'user_id': 333}"
      ]
     },
     "execution_count": 33,
     "metadata": {},
     "output_type": "execute_result"
    }
   ],
   "source": [
    "import base64\n",
    "\n",
    "def login_user(user_name, password):\n",
    "    auth_string = user_name + \":\" + password\n",
    "    \n",
    "    headers={\n",
    "        'Authorization' : \"Basic \"+base64.b64encode(auth_string.encode()).decode()\n",
    "    }\n",
    "    \n",
    "    user_data = requests.get(\n",
    "        url + endpoint_login,\n",
    "        headers=headers\n",
    "    )\n",
    "    return user_data.json()\n",
    "login_user('jimb@eam.com','123')\n",
    "    "
   ]
  },
  {
   "cell_type": "code",
   "execution_count": 34,
   "metadata": {},
   "outputs": [
    {
     "name": "stdout",
     "output_type": "stream",
     "text": [
      "vZ4qKUebBr26oHclKdNVwm_ZMDRuMafxoevSIRHBJx4\n"
     ]
    }
   ],
   "source": [
    "jim=login_user('jimb@eam.com','123')\n",
    "print(jim['token'])"
   ]
  },
  {
   "cell_type": "markdown",
   "metadata": {},
   "source": [
    "## Authentication - Bearer Authorization & PUT Requests"
   ]
  },
  {
   "cell_type": "code",
   "execution_count": 35,
   "metadata": {},
   "outputs": [
    {
     "data": {
      "text/plain": [
       "'success'"
      ]
     },
     "execution_count": 35,
     "metadata": {},
     "output_type": "execute_result"
    }
   ],
   "source": [
    "def edit_user(token, payload):\n",
    "    payload_json_string = json.dumps(payload)\n",
    "    headers={\n",
    "        'Content-Type':'application/json',\n",
    "        'Authorization':'Bearer ' + token\n",
    "    }\n",
    "    response = requests.put(\n",
    "        url + endpoint_user,\n",
    "        data=payload_json_string,\n",
    "        headers=headers\n",
    "    )\n",
    "    return response.text\n",
    "\n",
    "jims_edit_payload={\n",
    "    \"first_name\":\"Bill\"\n",
    "}\n",
    "\n",
    "edit_user(jim['token'], jims_edit_payload)\n"
   ]
  },
  {
   "cell_type": "code",
   "execution_count": 36,
   "metadata": {
    "scrolled": false
   },
   "outputs": [
    {
     "data": {
      "text/plain": [
       "'Bill'"
      ]
     },
     "execution_count": 36,
     "metadata": {},
     "output_type": "execute_result"
    }
   ],
   "source": [
    "jim=login_user('jimb@eam.com','123')\n",
    "jim['first_name']"
   ]
  },
  {
   "cell_type": "markdown",
   "metadata": {},
   "source": [
    "## DELETE Request"
   ]
  },
  {
   "cell_type": "code",
   "execution_count": 37,
   "metadata": {},
   "outputs": [
    {
     "name": "stdout",
     "output_type": "stream",
     "text": [
      "success\n"
     ]
    }
   ],
   "source": [
    "def delete_user(token):\n",
    "    headers = {\n",
    "        'Authorization':\"Bearer \" + token\n",
    "    }\n",
    "    \n",
    "    response = requests.delete(\n",
    "        url+endpoint_user,\n",
    "        headers=headers\n",
    "    )\n",
    "    return response.text\n",
    "print(delete_user(jim['token']))\n"
   ]
  },
  {
   "cell_type": "code",
   "execution_count": 38,
   "metadata": {},
   "outputs": [
    {
     "ename": "JSONDecodeError",
     "evalue": "Expecting value: line 1 column 1 (char 0)",
     "output_type": "error",
     "traceback": [
      "\u001b[1;31m---------------------------------------------------------------------------\u001b[0m",
      "\u001b[1;31mJSONDecodeError\u001b[0m                           Traceback (most recent call last)",
      "\u001b[1;32m~\\AppData\\Local\\Temp/ipykernel_18376/161563713.py\u001b[0m in \u001b[0;36m<module>\u001b[1;34m\u001b[0m\n\u001b[1;32m----> 1\u001b[1;33m \u001b[0mjim\u001b[0m\u001b[1;33m=\u001b[0m\u001b[0mlogin_user\u001b[0m\u001b[1;33m(\u001b[0m\u001b[1;34m'jimb@eam.com'\u001b[0m\u001b[1;33m,\u001b[0m\u001b[1;34m'123'\u001b[0m\u001b[1;33m)\u001b[0m\u001b[1;33m\u001b[0m\u001b[1;33m\u001b[0m\u001b[0m\n\u001b[0m",
      "\u001b[1;32m~\\AppData\\Local\\Temp/ipykernel_18376/1825530577.py\u001b[0m in \u001b[0;36mlogin_user\u001b[1;34m(user_name, password)\u001b[0m\n\u001b[0;32m     12\u001b[0m         \u001b[0mheaders\u001b[0m\u001b[1;33m=\u001b[0m\u001b[0mheaders\u001b[0m\u001b[1;33m\u001b[0m\u001b[1;33m\u001b[0m\u001b[0m\n\u001b[0;32m     13\u001b[0m     )\n\u001b[1;32m---> 14\u001b[1;33m     \u001b[1;32mreturn\u001b[0m \u001b[0muser_data\u001b[0m\u001b[1;33m.\u001b[0m\u001b[0mjson\u001b[0m\u001b[1;33m(\u001b[0m\u001b[1;33m)\u001b[0m\u001b[1;33m\u001b[0m\u001b[1;33m\u001b[0m\u001b[0m\n\u001b[0m\u001b[0;32m     15\u001b[0m \u001b[0mlogin_user\u001b[0m\u001b[1;33m(\u001b[0m\u001b[1;34m'jimb@eam.com'\u001b[0m\u001b[1;33m,\u001b[0m\u001b[1;34m'123'\u001b[0m\u001b[1;33m)\u001b[0m\u001b[1;33m\u001b[0m\u001b[1;33m\u001b[0m\u001b[0m\n\u001b[0;32m     16\u001b[0m \u001b[1;33m\u001b[0m\u001b[0m\n",
      "\u001b[1;32m~\\anaconda3\\lib\\site-packages\\requests\\models.py\u001b[0m in \u001b[0;36mjson\u001b[1;34m(self, **kwargs)\u001b[0m\n\u001b[0;32m    908\u001b[0m                     \u001b[1;31m# used.\u001b[0m\u001b[1;33m\u001b[0m\u001b[1;33m\u001b[0m\u001b[0m\n\u001b[0;32m    909\u001b[0m                     \u001b[1;32mpass\u001b[0m\u001b[1;33m\u001b[0m\u001b[1;33m\u001b[0m\u001b[0m\n\u001b[1;32m--> 910\u001b[1;33m         \u001b[1;32mreturn\u001b[0m \u001b[0mcomplexjson\u001b[0m\u001b[1;33m.\u001b[0m\u001b[0mloads\u001b[0m\u001b[1;33m(\u001b[0m\u001b[0mself\u001b[0m\u001b[1;33m.\u001b[0m\u001b[0mtext\u001b[0m\u001b[1;33m,\u001b[0m \u001b[1;33m**\u001b[0m\u001b[0mkwargs\u001b[0m\u001b[1;33m)\u001b[0m\u001b[1;33m\u001b[0m\u001b[1;33m\u001b[0m\u001b[0m\n\u001b[0m\u001b[0;32m    911\u001b[0m \u001b[1;33m\u001b[0m\u001b[0m\n\u001b[0;32m    912\u001b[0m     \u001b[1;33m@\u001b[0m\u001b[0mproperty\u001b[0m\u001b[1;33m\u001b[0m\u001b[1;33m\u001b[0m\u001b[0m\n",
      "\u001b[1;32m~\\anaconda3\\lib\\json\\__init__.py\u001b[0m in \u001b[0;36mloads\u001b[1;34m(s, cls, object_hook, parse_float, parse_int, parse_constant, object_pairs_hook, **kw)\u001b[0m\n\u001b[0;32m    344\u001b[0m             \u001b[0mparse_int\u001b[0m \u001b[1;32mis\u001b[0m \u001b[1;32mNone\u001b[0m \u001b[1;32mand\u001b[0m \u001b[0mparse_float\u001b[0m \u001b[1;32mis\u001b[0m \u001b[1;32mNone\u001b[0m \u001b[1;32mand\u001b[0m\u001b[1;33m\u001b[0m\u001b[1;33m\u001b[0m\u001b[0m\n\u001b[0;32m    345\u001b[0m             parse_constant is None and object_pairs_hook is None and not kw):\n\u001b[1;32m--> 346\u001b[1;33m         \u001b[1;32mreturn\u001b[0m \u001b[0m_default_decoder\u001b[0m\u001b[1;33m.\u001b[0m\u001b[0mdecode\u001b[0m\u001b[1;33m(\u001b[0m\u001b[0ms\u001b[0m\u001b[1;33m)\u001b[0m\u001b[1;33m\u001b[0m\u001b[1;33m\u001b[0m\u001b[0m\n\u001b[0m\u001b[0;32m    347\u001b[0m     \u001b[1;32mif\u001b[0m \u001b[0mcls\u001b[0m \u001b[1;32mis\u001b[0m \u001b[1;32mNone\u001b[0m\u001b[1;33m:\u001b[0m\u001b[1;33m\u001b[0m\u001b[1;33m\u001b[0m\u001b[0m\n\u001b[0;32m    348\u001b[0m         \u001b[0mcls\u001b[0m \u001b[1;33m=\u001b[0m \u001b[0mJSONDecoder\u001b[0m\u001b[1;33m\u001b[0m\u001b[1;33m\u001b[0m\u001b[0m\n",
      "\u001b[1;32m~\\anaconda3\\lib\\json\\decoder.py\u001b[0m in \u001b[0;36mdecode\u001b[1;34m(self, s, _w)\u001b[0m\n\u001b[0;32m    335\u001b[0m \u001b[1;33m\u001b[0m\u001b[0m\n\u001b[0;32m    336\u001b[0m         \"\"\"\n\u001b[1;32m--> 337\u001b[1;33m         \u001b[0mobj\u001b[0m\u001b[1;33m,\u001b[0m \u001b[0mend\u001b[0m \u001b[1;33m=\u001b[0m \u001b[0mself\u001b[0m\u001b[1;33m.\u001b[0m\u001b[0mraw_decode\u001b[0m\u001b[1;33m(\u001b[0m\u001b[0ms\u001b[0m\u001b[1;33m,\u001b[0m \u001b[0midx\u001b[0m\u001b[1;33m=\u001b[0m\u001b[0m_w\u001b[0m\u001b[1;33m(\u001b[0m\u001b[0ms\u001b[0m\u001b[1;33m,\u001b[0m \u001b[1;36m0\u001b[0m\u001b[1;33m)\u001b[0m\u001b[1;33m.\u001b[0m\u001b[0mend\u001b[0m\u001b[1;33m(\u001b[0m\u001b[1;33m)\u001b[0m\u001b[1;33m)\u001b[0m\u001b[1;33m\u001b[0m\u001b[1;33m\u001b[0m\u001b[0m\n\u001b[0m\u001b[0;32m    338\u001b[0m         \u001b[0mend\u001b[0m \u001b[1;33m=\u001b[0m \u001b[0m_w\u001b[0m\u001b[1;33m(\u001b[0m\u001b[0ms\u001b[0m\u001b[1;33m,\u001b[0m \u001b[0mend\u001b[0m\u001b[1;33m)\u001b[0m\u001b[1;33m.\u001b[0m\u001b[0mend\u001b[0m\u001b[1;33m(\u001b[0m\u001b[1;33m)\u001b[0m\u001b[1;33m\u001b[0m\u001b[1;33m\u001b[0m\u001b[0m\n\u001b[0;32m    339\u001b[0m         \u001b[1;32mif\u001b[0m \u001b[0mend\u001b[0m \u001b[1;33m!=\u001b[0m \u001b[0mlen\u001b[0m\u001b[1;33m(\u001b[0m\u001b[0ms\u001b[0m\u001b[1;33m)\u001b[0m\u001b[1;33m:\u001b[0m\u001b[1;33m\u001b[0m\u001b[1;33m\u001b[0m\u001b[0m\n",
      "\u001b[1;32m~\\anaconda3\\lib\\json\\decoder.py\u001b[0m in \u001b[0;36mraw_decode\u001b[1;34m(self, s, idx)\u001b[0m\n\u001b[0;32m    353\u001b[0m             \u001b[0mobj\u001b[0m\u001b[1;33m,\u001b[0m \u001b[0mend\u001b[0m \u001b[1;33m=\u001b[0m \u001b[0mself\u001b[0m\u001b[1;33m.\u001b[0m\u001b[0mscan_once\u001b[0m\u001b[1;33m(\u001b[0m\u001b[0ms\u001b[0m\u001b[1;33m,\u001b[0m \u001b[0midx\u001b[0m\u001b[1;33m)\u001b[0m\u001b[1;33m\u001b[0m\u001b[1;33m\u001b[0m\u001b[0m\n\u001b[0;32m    354\u001b[0m         \u001b[1;32mexcept\u001b[0m \u001b[0mStopIteration\u001b[0m \u001b[1;32mas\u001b[0m \u001b[0merr\u001b[0m\u001b[1;33m:\u001b[0m\u001b[1;33m\u001b[0m\u001b[1;33m\u001b[0m\u001b[0m\n\u001b[1;32m--> 355\u001b[1;33m             \u001b[1;32mraise\u001b[0m \u001b[0mJSONDecodeError\u001b[0m\u001b[1;33m(\u001b[0m\u001b[1;34m\"Expecting value\"\u001b[0m\u001b[1;33m,\u001b[0m \u001b[0ms\u001b[0m\u001b[1;33m,\u001b[0m \u001b[0merr\u001b[0m\u001b[1;33m.\u001b[0m\u001b[0mvalue\u001b[0m\u001b[1;33m)\u001b[0m \u001b[1;32mfrom\u001b[0m \u001b[1;32mNone\u001b[0m\u001b[1;33m\u001b[0m\u001b[1;33m\u001b[0m\u001b[0m\n\u001b[0m\u001b[0;32m    356\u001b[0m         \u001b[1;32mreturn\u001b[0m \u001b[0mobj\u001b[0m\u001b[1;33m,\u001b[0m \u001b[0mend\u001b[0m\u001b[1;33m\u001b[0m\u001b[1;33m\u001b[0m\u001b[0m\n",
      "\u001b[1;31mJSONDecodeError\u001b[0m: Expecting value: line 1 column 1 (char 0)"
     ]
    }
   ],
   "source": [
    "jim=login_user('jimb@eam.com','123')\n"
   ]
  },
  {
   "cell_type": "markdown",
   "metadata": {},
   "source": [
    "## Display Images in Jupyter notebook"
   ]
  },
  {
   "cell_type": "code",
   "execution_count": 39,
   "metadata": {},
   "outputs": [
    {
     "data": {
      "text/html": [
       "<img src=\"https://s2982.pcdn.co/wp-content/uploads/2018/11/commuter-pig-keeper-book-cover.jpg\"/>"
      ],
      "text/plain": [
       "<IPython.core.display.Image object>"
      ]
     },
     "metadata": {},
     "output_type": "display_data"
    },
    {
     "name": "stdout",
     "output_type": "stream",
     "text": [
      "hello\n"
     ]
    }
   ],
   "source": [
    "from IPython.display import Image, display\n",
    "image = Image(url='https://s2982.pcdn.co/wp-content/uploads/2018/11/commuter-pig-keeper-book-cover.jpg')\n",
    "display(image)\n",
    "print('hello')"
   ]
  },
  {
   "cell_type": "markdown",
   "metadata": {},
   "source": [
    "## Make an Application"
   ]
  },
  {
   "cell_type": "code",
   "execution_count": 54,
   "metadata": {},
   "outputs": [
    {
     "name": "stdout",
     "output_type": "stream",
     "text": [
      "\n",
      "Welcome to the Repository            \n",
      "You can:            \n",
      "1. Browse All Books\n",
      "2. Browse Book by Category\n",
      "3. View Reading List\n",
      "4. Remove Book From Reading List\n",
      "5. Quit     \n",
      "\n",
      "Select your Fate: \n"
     ]
    },
    {
     "ename": "NameError",
     "evalue": "name 'name' is not defined",
     "output_type": "error",
     "traceback": [
      "\u001b[1;31m---------------------------------------------------------------------------\u001b[0m",
      "\u001b[1;31mNameError\u001b[0m                                 Traceback (most recent call last)",
      "\u001b[1;32m~\\AppData\\Local\\Temp/ipykernel_18376/2166788125.py\u001b[0m in \u001b[0;36m<module>\u001b[1;34m\u001b[0m\n\u001b[0;32m    217\u001b[0m \u001b[1;33m\u001b[0m\u001b[0m\n\u001b[0;32m    218\u001b[0m \u001b[1;33m\u001b[0m\u001b[0m\n\u001b[1;32m--> 219\u001b[1;33m \u001b[0mmain\u001b[0m\u001b[1;33m(\u001b[0m\u001b[1;33m)\u001b[0m\u001b[1;33m\u001b[0m\u001b[1;33m\u001b[0m\u001b[0m\n\u001b[0m",
      "\u001b[1;32m~\\AppData\\Local\\Temp/ipykernel_18376/2166788125.py\u001b[0m in \u001b[0;36mmain\u001b[1;34m()\u001b[0m\n\u001b[0;32m    211\u001b[0m             \u001b[1;32mbreak\u001b[0m\u001b[1;33m\u001b[0m\u001b[1;33m\u001b[0m\u001b[0m\n\u001b[0;32m    212\u001b[0m         \u001b[1;32melse\u001b[0m\u001b[1;33m:\u001b[0m\u001b[1;33m\u001b[0m\u001b[1;33m\u001b[0m\u001b[0m\n\u001b[1;32m--> 213\u001b[1;33m             \u001b[0mprint\u001b[0m\u001b[1;33m(\u001b[0m\u001b[1;34m\"Invalid Selection\"\u001b[0m \u001b[1;33m+\u001b[0m \u001b[0mname\u001b[0m\u001b[1;33m)\u001b[0m\u001b[1;33m\u001b[0m\u001b[1;33m\u001b[0m\u001b[0m\n\u001b[0m\u001b[0;32m    214\u001b[0m             \u001b[0mtime\u001b[0m\u001b[1;33m.\u001b[0m\u001b[0msleep\u001b[0m\u001b[1;33m(\u001b[0m\u001b[1;36m2\u001b[0m\u001b[1;33m)\u001b[0m\u001b[1;33m\u001b[0m\u001b[1;33m\u001b[0m\u001b[0m\n\u001b[0;32m    215\u001b[0m             \u001b[1;32mcontinue\u001b[0m\u001b[1;33m\u001b[0m\u001b[1;33m\u001b[0m\u001b[0m\n",
      "\u001b[1;31mNameError\u001b[0m: name 'name' is not defined"
     ]
    }
   ],
   "source": [
    "from getpass import getpass\n",
    "import time\n",
    "from IPython.display import clear_output\n",
    "from IPython.display import Image\n",
    "from IPython.display import display\n",
    "#from book_app_api_functions import * \n",
    "\n",
    "def login(email):\n",
    "    clear_output()\n",
    "    password=getpass(\"Password: \")\n",
    "    user = login_user(email, password) \n",
    "    return user\n",
    "\n",
    "def register():\n",
    "    clear_output()\n",
    "    print(\"Registration:\")\n",
    "    email = input(\"Email: \")\n",
    "    first_name = input(\"First Name: \")\n",
    "    last_name = input(\"Last Name: \")\n",
    "    password = getpass(\"Password: \")\n",
    "    \n",
    "    user_dict={\n",
    "        \"email\":email,\n",
    "        \"first_name\":first_name,\n",
    "        \"last_name\":last_name,\n",
    "        \"password\":password\n",
    "    }\n",
    "    return register_user(user_dict)\n",
    "\n",
    "class DisplayBook():\n",
    "    def __init__(self, book):\n",
    "        self.book = book\n",
    "        \n",
    "    def display_book_short(book):\n",
    "        print(f\"{book['id']} \\t| {book['title'][:50].ljust(50)} | \\t{book['subject']}\")\n",
    "\n",
    "    def display_book_long(book):\n",
    "        cover = Image(url=book['img'])\n",
    "        display(cover)\n",
    "        print(f'''\n",
    "    Title:\\t {book['title']}\n",
    "    Author: {book['author']}\n",
    "    Pages:\\t {book['pages']}\n",
    "    Subject: {book['subject']}\n",
    "    Summary: {book['summary']}\n",
    "    ''')\n",
    "    \n",
    "\n",
    "    \n",
    "class ReadingList():\n",
    "    def __init__(self):\n",
    "        self.reading_list=[]\n",
    "        \n",
    "    def add_book(self, book):\n",
    "        if book not in self.reading_list:\n",
    "            self.reading_list.append(book)\n",
    "    \n",
    "    def remove_book(self, book):\n",
    "        self.reading_list.remove(book)\n",
    "    \n",
    "    def empty(self):\n",
    "        self.reading_list=[]\n",
    "    \n",
    "    def show_book_list(self):\n",
    "        clear_output()\n",
    "        if not self.reading_list:\n",
    "            print(\"Your reading list is empty\")\n",
    "        for book in self.reading_list:\n",
    "            print(f'''\n",
    "{\"=\"*50}            \n",
    "\\n\n",
    "Title:\\t {book['title']}\n",
    "Book ID: {book['id']}\n",
    "Author:\\t {book['author']}\n",
    "Subject: {book['subject']}\n",
    "Summary: {book['summary']}\n",
    "\\n\n",
    "{\"=\"*50}            \n",
    "\\n\n",
    "''')\n",
    "    \n",
    "    def show_small_book_list(self):\n",
    "        if not self.reading_list:\n",
    "            print(\"Your reading list is empty\")\n",
    "        else:\n",
    "            for book in self.reading_list:\n",
    "                display_book_short(book)\n",
    "\n",
    "def browse_books(books, reading_list, subject=None):\n",
    "    while True:\n",
    "        clear_output()\n",
    "        print(f'''\n",
    "Welcome to the Book Browser\n",
    "You are viewing {subject if subject else 'all'} books\n",
    "[ID] \\t| {\"[TITLE]\".ljust(50)} | [SUBJECT]\n",
    "        ''')\n",
    "        if subject:\n",
    "            books=get_book_by_category(books, subject)\n",
    "        for book in books:\n",
    "            display_book_short(book)\n",
    "\n",
    "        selection = input(\"Select you book by ID [BACK to back out]\")\n",
    "        if selection.lower()=='back':\n",
    "            return\n",
    "        elif selection.isnumeric() and int(selection) in map(lambda book: book['id'], books):\n",
    "            selection=int(selection)\n",
    "            while True:\n",
    "                print(f'''\n",
    "You Selected: {list(filter(lambda book: book['id'] == selection, books))[0]['title']}\n",
    "1. Add Book To Reading List\n",
    "2. View More Information\n",
    "3. Go Back\n",
    "4. Go To Main Menu\n",
    "''')\n",
    "                action = input(\"Action: \")\n",
    "                if action ==\"1\":\n",
    "                    reading_list.add_book(list(filter(lambda book: book['id']==selection, books))[0])\n",
    "                    print(\"As you wish\")\n",
    "                    time.sleep(1)\n",
    "                    break\n",
    "                elif action ==\"2\":\n",
    "                    clear_output()\n",
    "                    display_book_long(list(filter(lambda book: book['id']==selection, books))[0])\n",
    "                    input(\"Press Enter To Continue\")\n",
    "                elif action==\"3\":\n",
    "                    break\n",
    "                elif action==\"4\":\n",
    "                    return\n",
    "        else:\n",
    "            print(\"Invalid ID\")\n",
    "            time.sleep(2)\n",
    "            continue\n",
    "    \n",
    "def do_login_user():\n",
    "    #name = login_user(email, password)\n",
    " \n",
    "    while True:\n",
    "        clear_output()\n",
    "        print(\"Welcome to the Bookstore\")\n",
    "        email = input(\"Type your email to login or Type `register` to Register \")\n",
    "        if email == 'register':\n",
    "            success_register=register()\n",
    "            if success_register:\n",
    "                print(\"You have successfully registered\")\n",
    "                continue\n",
    "        elif email.lower() == \"quit\":\n",
    "            print(\"Goodbye\")\n",
    "            break\n",
    "        else:\n",
    "            try:\n",
    "                return login(email)                 \n",
    "            except:\n",
    "                print(\"Invalid Username/Password combo\")\n",
    "                time.sleep(2)\n",
    "                continue\n",
    "                \n",
    "def main():\n",
    "    reading_list = ReadingList()\n",
    "    books = get_books()\n",
    "    user = do_login_user()\n",
    "    #name = login_user(email, password)\n",
    "    # First Scene of our app (above)\n",
    "    while True:\n",
    "        clear_output()\n",
    "        print(\"\"\"\n",
    "Welcome to the Repository            \n",
    "You can:            \n",
    "1. Browse All Books\n",
    "2. Browse Book by Category\n",
    "3. View Reading List\n",
    "4. Remove Book From Reading List\n",
    "5. Quit     \n",
    "\"\"\")\n",
    "        command = input(\"Select your Fate: \")\n",
    "        if command == \"1\":\n",
    "            browse_books(books, reading_list)\n",
    "        elif command == \"2\":\n",
    "            while True:\n",
    "                print(\" | \".join(get_category_list(books)))\n",
    "                cat = input(\"Category: \").title()\n",
    "                if cat in get_category_list(books):\n",
    "                    browse_books(books, reading_list, cat)\n",
    "                    break\n",
    "                print(\"Invalid Category\")\n",
    "                time.sleep(2)\n",
    "                continue\n",
    "        elif command == \"3\":\n",
    "            reading_list.show_book_list()\n",
    "            input(\"Press Enter To Return\")\n",
    "            continue\n",
    "        elif command == \"4\":\n",
    "            while True:\n",
    "                clear_output()\n",
    "                reading_list.show_small_book_list()\n",
    "                garbage = input(\"What book ID would you like to remove? [BACK to back out]\")\n",
    "                if garbage.lower() == \"back\":\n",
    "                    break\n",
    "                elif garbage.isnumeric() and int(garbage) in map(lambda book: book['id'], reading_list.reading_list):\n",
    "                    reading_list.remove_book(list(filter(lambda book: book['id']==int(garbage), reading_list.reading_list))[0])\n",
    "                    print(f'{garbage} has been removed')\n",
    "                    time.sleep(2)\n",
    "                    break\n",
    "                else:\n",
    "                    print(f'{garbage} is not in your collection')\n",
    "                    time.sleep(2)\n",
    "                    break\n",
    "            continue   \n",
    "\n",
    "        elif command == \"5\":\n",
    "            print(\"Goodbye\")\n",
    "            break\n",
    "        else:\n",
    "            print(\"Invalid Selection\" + name)\n",
    "            time.sleep(2)\n",
    "            continue\n",
    "  \n",
    "            \n",
    "\n",
    "main()            "
   ]
  },
  {
   "cell_type": "code",
   "execution_count": null,
   "metadata": {},
   "outputs": [],
   "source": [
    "{\n",
    "    \"questions\": [\n",
    "        {\n",
    "            \"answer\": \"promise\",\n",
    "            \"author\": \"Please\",\n",
    "            \"created_on\": \"Fri, 22 Jul 2022 02:47:29 GMT\",\n",
    "            \"id\": 1,\n",
    "            \"question\": \"What can you keep after giving to someone?\"\n",
    "        },\n",
    "        {\n",
    "            \"answer\": \"parrot\",\n",
    "            \"author\": \"Please\",\n",
    "            \"created_on\": \"Fri, 22 Jul 2022 12:55:24 GMT\",\n",
    "            \"id\": 2,\n",
    "            \"question\": \"What is bright orange with green on top and sounds like a parrot?\"\n",
    "        },\n",
    "\t  {\n",
    "            \"answer\": \"Mercury\",\n",
    "            \"author\": \"Please\",\n",
    "            \"created_on\": \"Fri, 22 Jul 2022 02:47:29 GMT\",\n",
    "            \"id\": 3,\n",
    "            \"question\": \"Hg is the chemical symbol of which element?\"\n",
    "        },\n",
    "        {\n",
    "            \"answer\": \"Hotmail\",\n",
    "            \"author\": \"Please\",\n",
    "            \"created_on\": \"Fri, 22 Jul 2022 12:55:24 GMT\",\n",
    "            \"id\": 4,\n",
    "            \"question\": \"Which email service is owned by Microsoft?\"\n",
    "        },\n",
    "        {\n",
    "            \"answer\": \"Brazil\",\n",
    "            \"author\": \"Please\",\n",
    "            \"created_on\": \"Fri, 22 Jul 2022 12:55:24 GMT\",\n",
    "            \"id\": 5,\n",
    "            \"question\": \"Which country produces the most coffee in the world?\"\n",
    "        },\n",
    "        {\n",
    "            \"answer\": \"Paris\",\n",
    "            \"author\": \"Please\",\n",
    "            \"created_on\": \"Fri, 22 Jul 2022 12:55:24 GMT\",\n",
    "            \"id\": 6,\n",
    "            \"question\": \"In which city was Jim Morrison buried?\"\n",
    "        },\n",
    "        {\n",
    "            \"answer\": \"Delaware\",\n",
    "            \"author\": \"Please\",\n",
    "            \"created_on\": \"Fri, 22 Jul 2022 12:55:24 GMT\",\n",
    "            \"id\": 7,\n",
    "            \"question\": \"What was the first state?\"\n",
    "        },\n",
    "\t  {\n",
    "            \"answer\": \"Madrid\",\n",
    "            \"author\": \"Please\",\n",
    "            \"created_on\": \"Fri, 22 Jul 2022 02:47:29 GMT\",\n",
    "            \"id\": 8,\n",
    "            \"question\": \"What is the capital city of Spain?\"\n",
    "        },\n",
    "        {\n",
    "            \"answer\": \"The Mona Lisa\",\n",
    "            \"author\": \"Please\",\n",
    "            \"created_on\": \"Fri, 22 Jul 2022 12:55:24 GMT\",\n",
    "            \"id\": 9,\n",
    "            \"question\": \"What is the painting “La Gioconda” more usually known as?\"\n",
    "        },\n",
    "        {\n",
    "            \"answer\": \"10,000\",\n",
    "            \"author\": \"Please\",\n",
    "            \"created_on\": \"Fri, 22 Jul 2022 12:55:24 GMT\",\n",
    "            \"id\": 10,\n",
    "            \"question\": \"About how many taste buds does the average human tongue have?\"\n",
    "        }\n",
    "    ]\n",
    "}"
   ]
  },
  {
   "cell_type": "code",
   "execution_count": null,
   "metadata": {},
   "outputs": [],
   "source": []
  }
 ],
 "metadata": {
  "kernelspec": {
   "display_name": "Python 3 (ipykernel)",
   "language": "python",
   "name": "python3"
  },
  "language_info": {
   "codemirror_mode": {
    "name": "ipython",
    "version": 3
   },
   "file_extension": ".py",
   "mimetype": "text/x-python",
   "name": "python",
   "nbconvert_exporter": "python",
   "pygments_lexer": "ipython3",
   "version": "3.9.7"
  }
 },
 "nbformat": 4,
 "nbformat_minor": 4
}
